{
  "nbformat": 4,
  "nbformat_minor": 0,
  "metadata": {
    "colab": {
      "provenance": [],
      "authorship_tag": "ABX9TyPtXK3I7Yd88jg/3GHAFx8h",
      "include_colab_link": true
    },
    "kernelspec": {
      "name": "python3",
      "display_name": "Python 3"
    },
    "language_info": {
      "name": "python"
    }
  },
  "cells": [
    {
      "cell_type": "markdown",
      "metadata": {
        "id": "view-in-github",
        "colab_type": "text"
      },
      "source": [
        "<a href=\"https://colab.research.google.com/github/C45Nishit/AICS-LAB/blob/main/multiple_linear_regression.ipynb\" target=\"_parent\"><img src=\"https://colab.research.google.com/assets/colab-badge.svg\" alt=\"Open In Colab\"/></a>"
      ]
    },
    {
      "cell_type": "code",
      "execution_count": 6,
      "metadata": {
        "colab": {
          "base_uri": "https://localhost:8080/",
          "height": 206
        },
        "id": "srtIHcW5dgll",
        "outputId": "070a8aae-f19a-4ee4-fd68-a0015533eb94"
      },
      "outputs": [
        {
          "output_type": "execute_result",
          "data": {
            "text/plain": [
              "   R&D Spend  Administration  Marketing Spend       State     Profit\n",
              "0  165349.20       136897.80        471784.10    New York  192261.83\n",
              "1  162597.70       151377.59        443898.53  California  191792.06\n",
              "2  153441.51       101145.55        407934.54     Florida  191050.39\n",
              "3  144372.41       118671.85        383199.62    New York  182901.99\n",
              "4  142107.34        91391.77        366168.42     Florida  166187.94"
            ],
            "text/html": [
              "\n",
              "  <div id=\"df-60c7dd59-cf93-4b87-9e4b-e2e1b8ef5269\">\n",
              "    <div class=\"colab-df-container\">\n",
              "      <div>\n",
              "<style scoped>\n",
              "    .dataframe tbody tr th:only-of-type {\n",
              "        vertical-align: middle;\n",
              "    }\n",
              "\n",
              "    .dataframe tbody tr th {\n",
              "        vertical-align: top;\n",
              "    }\n",
              "\n",
              "    .dataframe thead th {\n",
              "        text-align: right;\n",
              "    }\n",
              "</style>\n",
              "<table border=\"1\" class=\"dataframe\">\n",
              "  <thead>\n",
              "    <tr style=\"text-align: right;\">\n",
              "      <th></th>\n",
              "      <th>R&amp;D Spend</th>\n",
              "      <th>Administration</th>\n",
              "      <th>Marketing Spend</th>\n",
              "      <th>State</th>\n",
              "      <th>Profit</th>\n",
              "    </tr>\n",
              "  </thead>\n",
              "  <tbody>\n",
              "    <tr>\n",
              "      <th>0</th>\n",
              "      <td>165349.20</td>\n",
              "      <td>136897.80</td>\n",
              "      <td>471784.10</td>\n",
              "      <td>New York</td>\n",
              "      <td>192261.83</td>\n",
              "    </tr>\n",
              "    <tr>\n",
              "      <th>1</th>\n",
              "      <td>162597.70</td>\n",
              "      <td>151377.59</td>\n",
              "      <td>443898.53</td>\n",
              "      <td>California</td>\n",
              "      <td>191792.06</td>\n",
              "    </tr>\n",
              "    <tr>\n",
              "      <th>2</th>\n",
              "      <td>153441.51</td>\n",
              "      <td>101145.55</td>\n",
              "      <td>407934.54</td>\n",
              "      <td>Florida</td>\n",
              "      <td>191050.39</td>\n",
              "    </tr>\n",
              "    <tr>\n",
              "      <th>3</th>\n",
              "      <td>144372.41</td>\n",
              "      <td>118671.85</td>\n",
              "      <td>383199.62</td>\n",
              "      <td>New York</td>\n",
              "      <td>182901.99</td>\n",
              "    </tr>\n",
              "    <tr>\n",
              "      <th>4</th>\n",
              "      <td>142107.34</td>\n",
              "      <td>91391.77</td>\n",
              "      <td>366168.42</td>\n",
              "      <td>Florida</td>\n",
              "      <td>166187.94</td>\n",
              "    </tr>\n",
              "  </tbody>\n",
              "</table>\n",
              "</div>\n",
              "      <button class=\"colab-df-convert\" onclick=\"convertToInteractive('df-60c7dd59-cf93-4b87-9e4b-e2e1b8ef5269')\"\n",
              "              title=\"Convert this dataframe to an interactive table.\"\n",
              "              style=\"display:none;\">\n",
              "        \n",
              "  <svg xmlns=\"http://www.w3.org/2000/svg\" height=\"24px\"viewBox=\"0 0 24 24\"\n",
              "       width=\"24px\">\n",
              "    <path d=\"M0 0h24v24H0V0z\" fill=\"none\"/>\n",
              "    <path d=\"M18.56 5.44l.94 2.06.94-2.06 2.06-.94-2.06-.94-.94-2.06-.94 2.06-2.06.94zm-11 1L8.5 8.5l.94-2.06 2.06-.94-2.06-.94L8.5 2.5l-.94 2.06-2.06.94zm10 10l.94 2.06.94-2.06 2.06-.94-2.06-.94-.94-2.06-.94 2.06-2.06.94z\"/><path d=\"M17.41 7.96l-1.37-1.37c-.4-.4-.92-.59-1.43-.59-.52 0-1.04.2-1.43.59L10.3 9.45l-7.72 7.72c-.78.78-.78 2.05 0 2.83L4 21.41c.39.39.9.59 1.41.59.51 0 1.02-.2 1.41-.59l7.78-7.78 2.81-2.81c.8-.78.8-2.07 0-2.86zM5.41 20L4 18.59l7.72-7.72 1.47 1.35L5.41 20z\"/>\n",
              "  </svg>\n",
              "      </button>\n",
              "      \n",
              "  <style>\n",
              "    .colab-df-container {\n",
              "      display:flex;\n",
              "      flex-wrap:wrap;\n",
              "      gap: 12px;\n",
              "    }\n",
              "\n",
              "    .colab-df-convert {\n",
              "      background-color: #E8F0FE;\n",
              "      border: none;\n",
              "      border-radius: 50%;\n",
              "      cursor: pointer;\n",
              "      display: none;\n",
              "      fill: #1967D2;\n",
              "      height: 32px;\n",
              "      padding: 0 0 0 0;\n",
              "      width: 32px;\n",
              "    }\n",
              "\n",
              "    .colab-df-convert:hover {\n",
              "      background-color: #E2EBFA;\n",
              "      box-shadow: 0px 1px 2px rgba(60, 64, 67, 0.3), 0px 1px 3px 1px rgba(60, 64, 67, 0.15);\n",
              "      fill: #174EA6;\n",
              "    }\n",
              "\n",
              "    [theme=dark] .colab-df-convert {\n",
              "      background-color: #3B4455;\n",
              "      fill: #D2E3FC;\n",
              "    }\n",
              "\n",
              "    [theme=dark] .colab-df-convert:hover {\n",
              "      background-color: #434B5C;\n",
              "      box-shadow: 0px 1px 3px 1px rgba(0, 0, 0, 0.15);\n",
              "      filter: drop-shadow(0px 1px 2px rgba(0, 0, 0, 0.3));\n",
              "      fill: #FFFFFF;\n",
              "    }\n",
              "  </style>\n",
              "\n",
              "      <script>\n",
              "        const buttonEl =\n",
              "          document.querySelector('#df-60c7dd59-cf93-4b87-9e4b-e2e1b8ef5269 button.colab-df-convert');\n",
              "        buttonEl.style.display =\n",
              "          google.colab.kernel.accessAllowed ? 'block' : 'none';\n",
              "\n",
              "        async function convertToInteractive(key) {\n",
              "          const element = document.querySelector('#df-60c7dd59-cf93-4b87-9e4b-e2e1b8ef5269');\n",
              "          const dataTable =\n",
              "            await google.colab.kernel.invokeFunction('convertToInteractive',\n",
              "                                                     [key], {});\n",
              "          if (!dataTable) return;\n",
              "\n",
              "          const docLinkHtml = 'Like what you see? Visit the ' +\n",
              "            '<a target=\"_blank\" href=https://colab.research.google.com/notebooks/data_table.ipynb>data table notebook</a>'\n",
              "            + ' to learn more about interactive tables.';\n",
              "          element.innerHTML = '';\n",
              "          dataTable['output_type'] = 'display_data';\n",
              "          await google.colab.output.renderOutput(dataTable, element);\n",
              "          const docLink = document.createElement('div');\n",
              "          docLink.innerHTML = docLinkHtml;\n",
              "          element.appendChild(docLink);\n",
              "        }\n",
              "      </script>\n",
              "    </div>\n",
              "  </div>\n",
              "  "
            ]
          },
          "metadata": {},
          "execution_count": 6
        }
      ],
      "source": [
        "import numpy as np\n",
        "import pandas as pd\n",
        "import matplotlib.pyplot as plt\n",
        "df=pd.read_csv(\"https://raw.githubusercontent.com/C45Nishit/AICS-LAB/main/50_Startups.csv\")\n",
        "df.head()"
      ]
    },
    {
      "cell_type": "code",
      "source": [
        "b4=[0 for x in range(len(df))]\n",
        "b5=[0 for x in range(len(df))]\n",
        "b6=[0 for x in range(len(df))]\n",
        "for i in range(len(df)):\n",
        "  if df['State'][i] == 'New York':\n",
        "    b4[i]=1\n",
        "  elif df['State'][i] == \"California\":\n",
        "    b5[i]=1\n",
        "  else:\n",
        "    b6[i]=1\n",
        "# if df['State'][0] == \"New York\":\n",
        "#   print('ok')"
      ],
      "metadata": {
        "id": "yqyMaJj4gefP"
      },
      "execution_count": 7,
      "outputs": []
    },
    {
      "cell_type": "code",
      "source": [
        "b1=df['R&D Spend'].values\n",
        "b2=df['Administration'].values\n",
        "b3=df['Marketing Spend'].values\n",
        "# b1=df[''].values\n",
        "y=df['Profit'].values\n",
        "x=[]\n",
        "for i in range(len(b1)):\n",
        "  x.append([b1[i],b2[i],b3[i],b4[i],b5[i],b6[i]])\n",
        "print(x)\n"
      ],
      "metadata": {
        "colab": {
          "base_uri": "https://localhost:8080/"
        },
        "id": "CFNLw_sedii5",
        "outputId": "b6b7237c-bfe5-4bcf-a16d-6a12f388eb65"
      },
      "execution_count": 8,
      "outputs": [
        {
          "output_type": "stream",
          "name": "stdout",
          "text": [
            "[[165349.2, 136897.8, 471784.1, 1, 0, 0], [162597.7, 151377.59, 443898.53, 0, 1, 0], [153441.51, 101145.55, 407934.54, 0, 0, 1], [144372.41, 118671.85, 383199.62, 1, 0, 0], [142107.34, 91391.77, 366168.42, 0, 0, 1], [131876.9, 99814.71, 362861.36, 1, 0, 0], [134615.46, 147198.87, 127716.82, 0, 1, 0], [130298.13, 145530.06, 323876.68, 0, 0, 1], [120542.52, 148718.95, 311613.29, 1, 0, 0], [123334.88, 108679.17, 304981.62, 0, 1, 0], [101913.08, 110594.11, 229160.95, 0, 0, 1], [100671.96, 91790.61, 249744.55, 0, 1, 0], [93863.75, 127320.38, 249839.44, 0, 0, 1], [91992.39, 135495.07, 252664.93, 0, 1, 0], [119943.24, 156547.42, 256512.92, 0, 0, 1], [114523.61, 122616.84, 261776.23, 1, 0, 0], [78013.11, 121597.55, 264346.06, 0, 1, 0], [94657.16, 145077.58, 282574.31, 1, 0, 0], [91749.16, 114175.79, 294919.57, 0, 0, 1], [86419.7, 153514.11, 0.0, 1, 0, 0], [76253.86, 113867.3, 298664.47, 0, 1, 0], [78389.47, 153773.43, 299737.29, 1, 0, 0], [73994.56, 122782.75, 303319.26, 0, 0, 1], [67532.53, 105751.03, 304768.73, 0, 0, 1], [77044.01, 99281.34, 140574.81, 1, 0, 0], [64664.71, 139553.16, 137962.62, 0, 1, 0], [75328.87, 144135.98, 134050.07, 0, 0, 1], [72107.6, 127864.55, 353183.81, 1, 0, 0], [66051.52, 182645.56, 118148.2, 0, 0, 1], [65605.48, 153032.06, 107138.38, 1, 0, 0], [61994.48, 115641.28, 91131.24, 0, 0, 1], [61136.38, 152701.92, 88218.23, 1, 0, 0], [63408.86, 129219.61, 46085.25, 0, 1, 0], [55493.95, 103057.49, 214634.81, 0, 0, 1], [46426.07, 157693.92, 210797.67, 0, 1, 0], [46014.02, 85047.44, 205517.64, 1, 0, 0], [28663.76, 127056.21, 201126.82, 0, 0, 1], [44069.95, 51283.14, 197029.42, 0, 1, 0], [20229.59, 65947.93, 185265.1, 1, 0, 0], [38558.51, 82982.09, 174999.3, 0, 1, 0], [28754.33, 118546.05, 172795.67, 0, 1, 0], [27892.92, 84710.77, 164470.71, 0, 0, 1], [23640.93, 96189.63, 148001.11, 0, 1, 0], [15505.73, 127382.3, 35534.17, 1, 0, 0], [22177.74, 154806.14, 28334.72, 0, 1, 0], [1000.23, 124153.04, 1903.93, 1, 0, 0], [1315.46, 115816.21, 297114.46, 0, 0, 1], [0.0, 135426.92, 0.0, 0, 1, 0], [542.05, 51743.15, 0.0, 1, 0, 0], [0.0, 116983.8, 45173.06, 0, 1, 0]]\n"
          ]
        }
      ]
    },
    {
      "cell_type": "code",
      "source": [
        "from sklearn import linear_model as lm\n",
        "reg=lm.LinearRegression()\n",
        "reg.fit(x,y)\n",
        "print(reg.intercept_)\n",
        "reg.coef_"
      ],
      "metadata": {
        "colab": {
          "base_uri": "https://localhost:8080/"
        },
        "id": "BZWURkMDlM6h",
        "outputId": "c1e60c66-acab-4c1e-b230-e06ccd0386aa"
      },
      "execution_count": 9,
      "outputs": [
        {
          "output_type": "stream",
          "name": "stdout",
          "text": [
            "50177.644422850906\n"
          ]
        },
        {
          "output_type": "execute_result",
          "data": {
            "text/plain": [
              "array([ 8.06023114e-01, -2.70043196e-02,  2.69798610e-02, -9.41876104e+01,\n",
              "       -5.23005912e+01,  1.46488202e+02])"
            ]
          },
          "metadata": {},
          "execution_count": 9
        }
      ]
    },
    {
      "cell_type": "code",
      "source": [
        "t1=int(input('enter r&d:'))\n",
        "t2=int(input('enter adminstrative:'))\n",
        "t3=int(input('enter marketing:'))\n",
        "s=input('enter city:')\n",
        "t6=0\n",
        "t5=0\n",
        "t4=0\n",
        "if s=='New York':\n",
        "  t4=1\n",
        "elif s==\"California\":\n",
        "  t5=1\n",
        "else:\n",
        "  t6==1\n",
        "out=reg.coef_[0]*t1+reg.coef_[1]*t2+reg.coef_[2]*t3+reg.coef_[3]*t4+reg.coef_[4]*t5+reg.coef_[5]*t6 + reg.intercept_\n",
        "print(\"expected profit:\",out)"
      ],
      "metadata": {
        "colab": {
          "base_uri": "https://localhost:8080/"
        },
        "id": "T7BDi71Mq8V3",
        "outputId": "b6c5729e-58d1-40ba-c2a9-1d0bc75c7c6d"
      },
      "execution_count": 11,
      "outputs": [
        {
          "output_type": "stream",
          "name": "stdout",
          "text": [
            "enter r&d:165000\n",
            "enter adminstrative:136000\n",
            "enter marketing:471000\n",
            "enter city:New York\n",
            "expected profit: 192112.1976609768\n"
          ]
        }
      ]
    }
  ]
}