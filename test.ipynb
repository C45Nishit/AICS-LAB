{
  "nbformat": 4,
  "nbformat_minor": 0,
  "metadata": {
    "colab": {
      "provenance": [],
      "authorship_tag": "ABX9TyP8H5l+qD9jrJIqr18Ayrfi",
      "include_colab_link": true
    },
    "kernelspec": {
      "name": "python3",
      "display_name": "Python 3"
    },
    "language_info": {
      "name": "python"
    }
  },
  "cells": [
    {
      "cell_type": "markdown",
      "metadata": {
        "id": "view-in-github",
        "colab_type": "text"
      },
      "source": [
        "<a href=\"https://colab.research.google.com/github/C45Nishit/AICS-LAB/blob/main/test.ipynb\" target=\"_parent\"><img src=\"https://colab.research.google.com/assets/colab-badge.svg\" alt=\"Open In Colab\"/></a>"
      ]
    },
    {
      "cell_type": "code",
      "execution_count": 4,
      "metadata": {
        "colab": {
          "base_uri": "https://localhost:8080/"
        },
        "id": "xs7b-L7cR24P",
        "outputId": "23f86821-861b-4e04-b4f4-4d34ff148973"
      },
      "outputs": [
        {
          "output_type": "stream",
          "name": "stdout",
          "text": [
            "[1, 0]\n",
            "[0, 1]\n"
          ]
        },
        {
          "output_type": "execute_result",
          "data": {
            "text/plain": [
              "[0]"
            ]
          },
          "metadata": {},
          "execution_count": 4
        }
      ],
      "source": [
        "l=[]\n",
        "l.append(1)\n",
        "l.append(0)\n",
        "print(l)\n",
        "l.sort()\n",
        "print(l)\n",
        "l.remove(1)\n",
        "l"
      ]
    },
    {
      "cell_type": "code",
      "source": [
        "d={2:'hello'}\n",
        "print(d)\n",
        "d[1]=\"world\"\n",
        "print(d)\n",
        "d.values()\n",
        "print(d)\n",
        "d.pop(2)\n",
        "print(d)"
      ],
      "metadata": {
        "colab": {
          "base_uri": "https://localhost:8080/"
        },
        "id": "Xjo2PHdnR6VF",
        "outputId": "ce25ea92-e516-4584-dd69-295363e77165"
      },
      "execution_count": 7,
      "outputs": [
        {
          "output_type": "stream",
          "name": "stdout",
          "text": [
            "{2: 'hello'}\n",
            "{2: 'hello', 1: 'world'}\n",
            "{2: 'hello', 1: 'world'}\n",
            "{1: 'world'}\n"
          ]
        }
      ]
    },
    {
      "cell_type": "code",
      "source": [],
      "metadata": {
        "id": "Tra5n7njcCq0"
      },
      "execution_count": null,
      "outputs": []
    }
  ]
}