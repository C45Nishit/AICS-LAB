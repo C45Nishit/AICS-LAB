{
  "nbformat": 4,
  "nbformat_minor": 0,
  "metadata": {
    "colab": {
      "provenance": [],
      "authorship_tag": "ABX9TyMcV7TTmO2vcJkh4/7za/3Q",
      "include_colab_link": true
    },
    "kernelspec": {
      "name": "python3",
      "display_name": "Python 3"
    },
    "language_info": {
      "name": "python"
    }
  },
  "cells": [
    {
      "cell_type": "markdown",
      "metadata": {
        "id": "view-in-github",
        "colab_type": "text"
      },
      "source": [
        "<a href=\"https://colab.research.google.com/github/C45Nishit/AICS-LAB/blob/main/k_nearest.ipynb\" target=\"_parent\"><img src=\"https://colab.research.google.com/assets/colab-badge.svg\" alt=\"Open In Colab\"/></a>"
      ]
    },
    {
      "cell_type": "code",
      "execution_count": 2,
      "metadata": {
        "id": "WCo0DPJP07c8"
      },
      "outputs": [],
      "source": [
        "import random"
      ]
    },
    {
      "cell_type": "code",
      "source": [
        "a=[]\n",
        "x1=[]\n",
        "y1=[]\n",
        "x2=[]\n",
        "y2=[]\n",
        "c=[]\n",
        "for i in range(10):\n",
        "  x=random.randint(0,5)\n",
        "  y=random.randint(0,7)\n",
        "  x1.append(x)\n",
        "  y1.append(y)\n",
        "  a.append([x,y])\n",
        "  c.append(0)\n",
        "b=[]\n",
        "for i in range(10):\n",
        "  x=random.randint(4,9)\n",
        "  y=random.randint(3,9)\n",
        "  x1.append(x)\n",
        "  y1.append(y)\n",
        "  a.append([x,y])\n",
        "  c.append(1)"
      ],
      "metadata": {
        "id": "pSJp7Lib1BXH"
      },
      "execution_count": 25,
      "outputs": []
    },
    {
      "cell_type": "code",
      "source": [
        "import matplotlib.pyplot as plt\n",
        "plt.scatter(x1,y1)\n",
        "plt.scatter(x2,y2)\n",
        "plt.plot"
      ],
      "metadata": {
        "colab": {
          "base_uri": "https://localhost:8080/",
          "height": 282
        },
        "id": "5zgsmq9D2mSW",
        "outputId": "ffbe9670-4a1d-4b58-c4f4-666168ac406d"
      },
      "execution_count": 13,
      "outputs": [
        {
          "output_type": "execute_result",
          "data": {
            "text/plain": [
              "<function matplotlib.pyplot.plot(*args, scalex=True, scaley=True, data=None, **kwargs)>"
            ]
          },
          "metadata": {},
          "execution_count": 13
        },
        {
          "output_type": "display_data",
          "data": {
            "text/plain": [
              "<Figure size 432x288 with 1 Axes>"
            ],
            "image/png": "[encoded data removed]"
          },
          "metadata": {
            "needs_background": "light"
          }
        }
      ]
    },
    {
      "cell_type": "code",
      "source": [
        "import math"
      ],
      "metadata": {
        "id": "sYumto1n4Wj6"
      },
      "execution_count": 15,
      "outputs": []
    },
    {
      "cell_type": "code",
      "source": [
        "x=2\n",
        "y=3\n",
        "d={}\n",
        "ga={}\n",
        "gb={}\n",
        "for i in a:\n",
        "  p=[i[0],x]\n",
        "  q=[i[1],y]\n",
        "  dis=math.dist(p,q)\n",
        "  if dis in d:\n",
        "    ga[dis]+=1\n",
        "  else:\n",
        "    d[dis]='a'\n",
        "\n",
        "for i in b:\n",
        "  p=[i[0],x]\n",
        "  q=[i[1],y]\n",
        "  dis=math.dist(p,q)\n",
        "  if dis in d:\n",
        "    gb[dis]+=1\n",
        "  else:\n",
        "    d[dis]='b'\n",
        "\n",
        "ds=dict(sorted(d.items))\n",
        "l=0\n",
        "i=0\n",
        "ac=0\n",
        "bc=0\n",
        "while l<=5:\n",
        "  x=list(ds.keys())[i]\n",
        "  i+=1\n",
        "  \n",
        "  if x in gb:"
      ],
      "metadata": {
        "colab": {
          "base_uri": "https://localhost:8080/",
          "height": 130
        },
        "id": "PLbN042Y2_D_",
        "outputId": "bfe169d6-86e1-4bb2-9b49-87c6e568fb56"
      },
      "execution_count": 16,
      "outputs": [
        {
          "output_type": "error",
          "ename": "SyntaxError",
          "evalue": "ignored",
          "traceback": [
            "\u001b[0;36m  File \u001b[0;32m\"<ipython-input-16-732835faaeea>\"\u001b[0;36m, line \u001b[0;32m9\u001b[0m\n\u001b[0;31m    if dis in d:\u001b[0m\n\u001b[0m                ^\u001b[0m\n\u001b[0;31mSyntaxError\u001b[0m\u001b[0;31m:\u001b[0m unexpected EOF while parsing\n"
          ]
        }
      ]
    },
    {
      "cell_type": "code",
      "source": [
        "from sklearn.neighbors import KNeighborsClassifier\n",
        "\n",
        "k=KNeighborsClassifier()\n",
        "k.fit(a,c)\n",
        "xi=int(input())\n",
        "yi=int(input())\n",
        "new=[xi,yi]\n",
        "print(k.predict(new))"
      ],
      "metadata": {
        "id": "-xgnO4Ts5i_d"
      },
      "execution_count": null,
      "outputs": []
    },
    {
      "cell_type": "code",
      "source": [
        "k={1:2,3:4}\n",
        "k"
      ],
      "metadata": {
        "colab": {
          "base_uri": "https://localhost:8080/"
        },
        "id": "ZkpGmpOU8JjN",
        "outputId": "085f6618-1c54-41ec-f939-6a96d01bcc95"
      },
      "execution_count": 24,
      "outputs": [
        {
          "output_type": "execute_result",
          "data": {
            "text/plain": [
              "{1: 2, 3: 4}"
            ]
          },
          "metadata": {},
          "execution_count": 24
        }
      ]
    },
    {
      "cell_type": "code",
      "source": [],
      "metadata": {
        "id": "W4KGZDaw8XrA"
      },
      "execution_count": null,
      "outputs": []
    }
  ]
}