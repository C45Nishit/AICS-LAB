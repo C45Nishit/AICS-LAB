{
  "nbformat": 4,
  "nbformat_minor": 0,
  "metadata": {
    "colab": {
      "provenance": [],
      "toc_visible": true,
      "authorship_tag": "ABX9TyNMWb9oDt4+vUZM2VlFDD71",
      "include_colab_link": true
    },
    "kernelspec": {
      "name": "python3",
      "display_name": "Python 3"
    },
    "language_info": {
      "name": "python"
    }
  },
  "cells": [
    {
      "cell_type": "markdown",
      "metadata": {
        "id": "view-in-github",
        "colab_type": "text"
      },
      "source": [
        "<a href=\"https://colab.research.google.com/github/C45Nishit/AICS-LAB/blob/main/linear_regression.ipynb\" target=\"_parent\"><img src=\"https://colab.research.google.com/assets/colab-badge.svg\" alt=\"Open In Colab\"/></a>"
      ]
    },
    {
      "cell_type": "code",
      "execution_count": 15,
      "metadata": {
        "colab": {
          "base_uri": "https://localhost:8080/"
        },
        "id": "o-N_BNCXOpJd",
        "outputId": "3a4d980a-f59d-43e1-fa83-ef5414b80002"
      },
      "outputs": [
        {
          "output_type": "stream",
          "name": "stdout",
          "text": [
            "x= [ 1.1  1.3  1.5  2.   2.2  2.9  3.   3.2  3.2  3.7  3.9  4.   4.   4.1\n",
            "  4.5  4.9  5.1  5.3  5.9  6.   6.8  7.1  7.9  8.2  8.7  9.   9.5  9.6\n",
            " 10.3 10.5] \n",
            "y= [ 39343.  46205.  37731.  43525.  39891.  56642.  60150.  54445.  64445.\n",
            "  57189.  63218.  55794.  56957.  57081.  61111.  67938.  66029.  83088.\n",
            "  81363.  93940.  91738.  98273. 101302. 113812. 109431. 105582. 116969.\n",
            " 112635. 122391. 121872.]\n"
          ]
        }
      ],
      "source": [
        "import numpy as np\n",
        "import matplotlib.pyplot as plt\n",
        "import pandas as pd  \n",
        "url=\"https://raw.githubusercontent.com/C45Nishit/AICS-LAB/main/Salary_Data.csv\"\n",
        "df=pd.read_csv(url)\n",
        "x=df.iloc[:,0].values \n",
        "y=df.iloc[:,1].values # or y=df['Score'].values\n",
        "print(\"x=\",x,\"\\ny=\",y)\n",
        "x=x.reshape(-1,1)\n",
        "# y=y.reshape(-1,1)\n",
        "# xc=[]\n",
        "# yc=[]\n",
        "# for i in range (0,len(x)):\n",
        "#   xc.append([x[i]])\n"
      ]
    },
    {
      "cell_type": "code",
      "source": [
        "from sklearn import linear_model as lm\n",
        "reg=lm.LinearRegression()\n",
        "reg.fit(x,y)\n",
        "c=reg.intercept_\n",
        "m=reg.coef_[0]\n",
        "t=int(input(\"enter years of experience:\"))\n",
        "print(\"expected slary:\",m*t+c)"
      ],
      "metadata": {
        "id": "gpdltXiIOtl7",
        "colab": {
          "base_uri": "https://localhost:8080/"
        },
        "outputId": "7c53962d-9771-4c40-ad0e-d79bb10d2fa7"
      },
      "execution_count": 17,
      "outputs": [
        {
          "output_type": "stream",
          "name": "stdout",
          "text": [
            "enter years of experience:10\n",
            "expected slary: 120291.82341321945\n"
          ]
        }
      ]
    },
    {
      "cell_type": "code",
      "source": [
        "a,b=np.polyfit(x,y,1)\n",
        "plt.scatter(x,y)\n",
        "plt.plot(x,a*x+b)"
      ],
      "metadata": {
        "colab": {
          "base_uri": "https://localhost:8080/",
          "height": 282
        },
        "id": "VruCDLJnlRID",
        "outputId": "cac95217-6a81-4845-fff8-edd9342a1f64"
      },
      "execution_count": 3,
      "outputs": [
        {
          "output_type": "execute_result",
          "data": {
            "text/plain": [
              "[<matplotlib.lines.Line2D at 0x7fb877cadf90>]"
            ]
          },
          "metadata": {},
          "execution_count": 3
        },
        {
          "output_type": "display_data",
          "data": {
            "text/plain": [
              "<Figure size 432x288 with 1 Axes>"
            ],
            "image/png": "[encoded data removed]"
          },
          "metadata": {
            "needs_background": "light"
          }
        }
      ]
    },
    {
      "cell_type": "code",
      "source": [
        "x=int(input(\"enter years:\"))\n",
        "print(\"expected salary:\",a*x+b)"
      ],
      "metadata": {
        "colab": {
          "base_uri": "https://localhost:8080/"
        },
        "id": "6sREuCB1mAOX",
        "outputId": "bf9d1d21-2de7-4c0a-81c6-9b2101d10a9b"
      },
      "execution_count": 4,
      "outputs": [
        {
          "output_type": "stream",
          "name": "stdout",
          "text": [
            "enter years:10\n",
            "expected salary: 120291.82341321949\n"
          ]
        }
      ]
    },
    {
      "cell_type": "code",
      "source": [],
      "metadata": {
        "id": "X6CKd7pZBCV_"
      },
      "execution_count": null,
      "outputs": []
    }
  ]
}